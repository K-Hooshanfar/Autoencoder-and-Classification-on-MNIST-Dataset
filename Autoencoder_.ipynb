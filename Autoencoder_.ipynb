{
  "cells": [
    {
      "cell_type": "markdown",
      "source": [
        "# Part 3.1"
      ],
      "metadata": {
        "id": "RClKpyClLOQ4"
      }
    },
    {
      "cell_type": "markdown",
      "source": [
        "# Import Libraries and datas"
      ],
      "metadata": {
        "id": "RjtO0CsFiEQD"
      }
    },
    {
      "cell_type": "code",
      "execution_count": 4,
      "metadata": {
        "id": "01AWOt3K5yuu"
      },
      "outputs": [],
      "source": [
        "from keras.layers import Input, Dense\n",
        "from keras.models import Model\n",
        "from keras.datasets import mnist\n",
        "import numpy as np\n",
        "import matplotlib.pyplot as plt\n",
        "%matplotlib inline\n",
        "from tensorflow import keras\n",
        "import tensorflow as tf\n",
        "from keras.utils import to_categorical\n",
        "from datetime import datetime\n",
        "from packaging import version\n",
        "import pandas as pd\n",
        "import tensorflow as tf\n",
        "import seaborn as sns; sns.set()\n",
        "from sklearn.metrics import confusion_matrix\n",
        "from sklearn.metrics import accuracy_score"
      ]
    },
    {
      "cell_type": "code",
      "execution_count": 2,
      "metadata": {
        "colab": {
          "base_uri": "https://localhost:8080/"
        },
        "id": "0aMQFc4n6Iem",
        "outputId": "cf2df299-dc8b-4cd9-d04a-e8a871466647"
      },
      "outputs": [
        {
          "output_type": "stream",
          "name": "stdout",
          "text": [
            "Downloading data from https://storage.googleapis.com/tensorflow/tf-keras-datasets/mnist.npz\n",
            "11490434/11490434 [==============================] - 0s 0us/step\n"
          ]
        }
      ],
      "source": [
        "(train_images, train_labels), (test_images, test_labels) = mnist.load_data()"
      ]
    },
    {
      "cell_type": "markdown",
      "source": [
        "# Plot the number of each train and test data  according to the classes"
      ],
      "metadata": {
        "id": "SQVByIo_iKuw"
      }
    },
    {
      "cell_type": "code",
      "execution_count": 38,
      "metadata": {
        "colab": {
          "base_uri": "https://localhost:8080/",
          "height": 350
        },
        "id": "iOecpMAF6Jfy",
        "outputId": "f720ee15-7dbd-4a62-d9db-a029ffc515e8"
      },
      "outputs": [
        {
          "output_type": "display_data",
          "data": {
            "text/plain": [
              "<Figure size 1080x360 with 2 Axes>"
            ],
            "image/png": "[encoded data removed]"
          },
          "metadata": {
            "needs_background": "light"
          }
        }
      ],
      "source": [
        "fig, axs = plt.subplots(1,2,figsize=(15,5)) \n",
        "colors = ['blue']\n",
        "axs[0].hist(train_labels,bins=np.arange(11)-0.5 ,ec='black', align='mid', color=colors,alpha=0.7,rwidth=0.7)\n",
        "axs[0].set_title('Number of MNIST Training Images by Class')\n",
        "axs[0].set_xlabel('Classes') \n",
        "axs[0].set_ylabel('Count')\n",
        "axs[1].hist(test_labels,bins=np.arange(11)-0.5 , ec='black', align='mid', color=colors,alpha=0.7,rwidth=0.7)\n",
        "axs[1].set_title('Number of MNIST Testing Images by Class')\n",
        "axs[1].set_xlabel('Classes') \n",
        "axs[1].set_ylabel('Count')\n",
        "axs[0].set_xticks(np.arange(10))\n",
        "axs[1].set_xticks(np.arange(10))\n",
        "plt.show()"
      ]
    },
    {
      "cell_type": "markdown",
      "source": [
        "# Plot 5 random data of our dataset"
      ],
      "metadata": {
        "id": "Uy1jt30d5U89"
      }
    },
    {
      "cell_type": "code",
      "source": [
        "import random\n",
        "class_names = ['0', '1', '2', '3', '4',\n",
        "               '5', '6', '7', '8', '9']\n",
        "plt.figure(figsize=(10,10))\n",
        "\n",
        "rand_list=[]\n",
        "for i in range(5):\n",
        "    rand_list.append(random.randint(0,60000))\n",
        "print(rand_list)\n",
        "\n",
        "j=0\n",
        "for i in rand_list:\n",
        "  plt.subplot(5,5,j+1)\n",
        "  plt.xticks([])\n",
        "  plt.yticks([])\n",
        "  plt.imshow(train_images[i])\n",
        "  j=j+1\n",
        "plt.show()"
      ],
      "metadata": {
        "colab": {
          "base_uri": "https://localhost:8080/",
          "height": 145
        },
        "id": "ARsXfWqO5UPk",
        "outputId": "d79f967c-b1c4-4149-ddd0-d46d459abf8b"
      },
      "execution_count": 62,
      "outputs": [
        {
          "output_type": "stream",
          "name": "stdout",
          "text": [
            "[57240, 36094, 27905, 22712, 46576]\n"
          ]
        },
        {
          "output_type": "display_data",
          "data": {
            "text/plain": [
              "<Figure size 720x720 with 5 Axes>"
            ],
            "image/png": "[encoded data removed]"
          },
          "metadata": {}
        }
      ]
    },
    {
      "cell_type": "markdown",
      "source": [
        "# Normalization"
      ],
      "metadata": {
        "id": "DcG9n9GF92-G"
      }
    },
    {
      "cell_type": "code",
      "execution_count": 3,
      "metadata": {
        "colab": {
          "base_uri": "https://localhost:8080/"
        },
        "id": "Zl-EkExv6Kzg",
        "outputId": "c58f1eea-d0b7-4efd-910a-99b5dbd128c1"
      },
      "outputs": [
        {
          "output_type": "stream",
          "name": "stdout",
          "text": [
            "(60000, 784)\n",
            "(10000, 784)\n"
          ]
        }
      ],
      "source": [
        "# Data normalization\n",
        "train_images = train_images.astype('float32') / 255\n",
        "test_images = test_images.astype('float32') / 255\n",
        "train_images = train_images.reshape((len(train_images), np.prod(train_images.shape[1:])))#2D matrix (height x width) to a 1D vector (height x width x channels)\n",
        "test_images = test_images.reshape((len(test_images), np.prod(test_images.shape[1:])))\n",
        "print (train_images.shape)\n",
        "print (test_images.shape)"
      ]
    },
    {
      "cell_type": "markdown",
      "source": [
        "# Part 3.2\n",
        "# Designing Auto-encoder model"
      ],
      "metadata": {
        "id": "D7smPOiCLTIu"
      }
    },
    {
      "cell_type": "code",
      "execution_count": 4,
      "metadata": {
        "id": "cMbtpOEV6OtR",
        "colab": {
          "base_uri": "https://localhost:8080/"
        },
        "outputId": "c07d8ddd-4e56-470e-d87b-4e138a54494f"
      },
      "outputs": [
        {
          "output_type": "stream",
          "name": "stdout",
          "text": [
            "Model: \"model_2\"\n",
            "_________________________________________________________________\n",
            " Layer (type)                Output Shape              Param #   \n",
            "=================================================================\n",
            " input_1 (InputLayer)        [(None, 784)]             0         \n",
            "                                                                 \n",
            " dense (Dense)               (None, 500)               392500    \n",
            "                                                                 \n",
            " dense_1 (Dense)             (None, 300)               150300    \n",
            "                                                                 \n",
            " dense_2 (Dense)             (None, 100)               30100     \n",
            "                                                                 \n",
            " dense_3 (Dense)             (None, 30)                3030      \n",
            "                                                                 \n",
            " dense_4 (Dense)             (None, 100)               3100      \n",
            "                                                                 \n",
            " dense_5 (Dense)             (None, 300)               30300     \n",
            "                                                                 \n",
            " dense_6 (Dense)             (None, 500)               150500    \n",
            "                                                                 \n",
            " dense_7 (Dense)             (None, 784)               392784    \n",
            "                                                                 \n",
            "=================================================================\n",
            "Total params: 1,152,614\n",
            "Trainable params: 1,152,614\n",
            "Non-trainable params: 0\n",
            "_________________________________________________________________\n"
          ]
        }
      ],
      "source": [
        "input_size = 784\n",
        "hidden_size1 = 500\n",
        "hidden_size2=300\n",
        "hidden_size3=100\n",
        "latent_size = 30\n",
        "\n",
        "input_img = Input(shape=(input_size,))\n",
        "hidden_1 = Dense(hidden_size1, activation='relu')(input_img)\n",
        "hidden_2 = Dense(hidden_size2, activation='relu')(hidden_1)\n",
        "hidden_3 = Dense(hidden_size3, activation='relu')(hidden_2)\n",
        "latent = Dense(latent_size, activation='relu')(hidden_3)\n",
        "encoder = Model(input_img, latent)\n",
        "hidden_4 = Dense(hidden_size3, activation='sigmoid')(latent)\n",
        "hidden_5 = Dense(hidden_size2, activation='sigmoid')(hidden_4)\n",
        "hidden_6 = Dense(hidden_size1, activation='sigmoid')(hidden_5)\n",
        "output_img = Dense(input_size,activation='sigmoid')(hidden_6)\n",
        "##The sigmoid activation function output values in the range [0, 1] which fits perfectly with our scaled image data.\n",
        "decoder = Model(hidden_4, output_img)\n",
        "\n",
        "\n",
        "autoencoder = Model(input_img, output_img)\n",
        "autoencoder.summary()"
      ]
    },
    {
      "cell_type": "markdown",
      "source": [
        "# Training the model"
      ],
      "metadata": {
        "id": "i3-acmPoD-K4"
      }
    },
    {
      "cell_type": "code",
      "execution_count": 5,
      "metadata": {
        "colab": {
          "base_uri": "https://localhost:8080/"
        },
        "id": "sqGNOjuk6QoT",
        "outputId": "cd14155c-06c2-4b72-92aa-4c3822adbe70"
      },
      "outputs": [
        {
          "output_type": "stream",
          "name": "stdout",
          "text": [
            "Epoch 1/100\n",
            "1875/1875 [==============================] - 69s 34ms/step - loss: 0.2111 - val_loss: 0.1743\n",
            "Epoch 2/100\n",
            "1875/1875 [==============================] - 40s 21ms/step - loss: 0.1609 - val_loss: 0.1512\n",
            "Epoch 3/100\n",
            "1875/1875 [==============================] - 41s 22ms/step - loss: 0.1427 - val_loss: 0.1339\n",
            "Epoch 4/100\n",
            "1875/1875 [==============================] - 43s 23ms/step - loss: 0.1298 - val_loss: 0.1256\n",
            "Epoch 5/100\n",
            "1875/1875 [==============================] - 40s 21ms/step - loss: 0.1219 - val_loss: 0.1176\n",
            "Epoch 6/100\n",
            "1875/1875 [==============================] - 41s 22ms/step - loss: 0.1153 - val_loss: 0.1125\n",
            "Epoch 7/100\n",
            "1875/1875 [==============================] - 41s 22ms/step - loss: 0.1106 - val_loss: 0.1080\n",
            "Epoch 8/100\n",
            "1875/1875 [==============================] - 40s 22ms/step - loss: 0.1068 - val_loss: 0.1050\n",
            "Epoch 9/100\n",
            "1875/1875 [==============================] - 39s 21ms/step - loss: 0.1036 - val_loss: 0.1023\n",
            "Epoch 10/100\n",
            "1875/1875 [==============================] - 41s 22ms/step - loss: 0.1008 - val_loss: 0.0997\n",
            "Epoch 11/100\n",
            "1875/1875 [==============================] - 40s 21ms/step - loss: 0.0984 - val_loss: 0.0975\n",
            "Epoch 12/100\n",
            "1875/1875 [==============================] - 40s 21ms/step - loss: 0.0963 - val_loss: 0.0958\n",
            "Epoch 13/100\n",
            "1875/1875 [==============================] - 41s 22ms/step - loss: 0.0943 - val_loss: 0.0943\n",
            "Epoch 14/100\n",
            "1875/1875 [==============================] - 40s 21ms/step - loss: 0.0927 - val_loss: 0.0921\n",
            "Epoch 15/100\n",
            "1875/1875 [==============================] - 39s 21ms/step - loss: 0.0914 - val_loss: 0.0916\n",
            "Epoch 16/100\n",
            "1875/1875 [==============================] - 39s 21ms/step - loss: 0.0903 - val_loss: 0.0907\n",
            "Epoch 17/100\n",
            "1875/1875 [==============================] - 39s 21ms/step - loss: 0.0893 - val_loss: 0.0899\n",
            "Epoch 18/100\n",
            "1875/1875 [==============================] - 38s 20ms/step - loss: 0.0883 - val_loss: 0.0891\n",
            "Epoch 19/100\n",
            "1875/1875 [==============================] - 39s 21ms/step - loss: 0.0876 - val_loss: 0.0884\n",
            "Epoch 20/100\n",
            "1875/1875 [==============================] - 39s 21ms/step - loss: 0.0869 - val_loss: 0.0880\n",
            "Epoch 21/100\n",
            "1875/1875 [==============================] - 39s 21ms/step - loss: 0.0864 - val_loss: 0.0876\n",
            "Epoch 22/100\n",
            "1875/1875 [==============================] - 39s 21ms/step - loss: 0.0859 - val_loss: 0.0878\n",
            "Epoch 23/100\n",
            "1875/1875 [==============================] - 41s 22ms/step - loss: 0.0854 - val_loss: 0.0864\n",
            "Epoch 24/100\n",
            "1875/1875 [==============================] - 39s 21ms/step - loss: 0.0850 - val_loss: 0.0864\n",
            "Epoch 25/100\n",
            "1875/1875 [==============================] - 40s 21ms/step - loss: 0.0845 - val_loss: 0.0859\n",
            "Epoch 26/100\n",
            "1875/1875 [==============================] - 39s 21ms/step - loss: 0.0842 - val_loss: 0.0856\n",
            "Epoch 27/100\n",
            "1875/1875 [==============================] - 38s 20ms/step - loss: 0.0838 - val_loss: 0.0854\n",
            "Epoch 28/100\n",
            "1875/1875 [==============================] - 39s 21ms/step - loss: 0.0835 - val_loss: 0.0851\n",
            "Epoch 29/100\n",
            "1875/1875 [==============================] - 39s 21ms/step - loss: 0.0832 - val_loss: 0.0851\n",
            "Epoch 30/100\n",
            "1875/1875 [==============================] - 38s 20ms/step - loss: 0.0829 - val_loss: 0.0853\n",
            "Epoch 31/100\n",
            "1875/1875 [==============================] - 39s 21ms/step - loss: 0.0826 - val_loss: 0.0846\n",
            "Epoch 32/100\n",
            "1875/1875 [==============================] - 40s 21ms/step - loss: 0.0823 - val_loss: 0.0844\n",
            "Epoch 33/100\n",
            "1875/1875 [==============================] - 38s 21ms/step - loss: 0.0821 - val_loss: 0.0836\n",
            "Epoch 34/100\n",
            "1875/1875 [==============================] - 39s 21ms/step - loss: 0.0818 - val_loss: 0.0838\n",
            "Epoch 35/100\n",
            "1875/1875 [==============================] - 38s 21ms/step - loss: 0.0816 - val_loss: 0.0835\n",
            "Epoch 36/100\n",
            "1875/1875 [==============================] - 38s 20ms/step - loss: 0.0813 - val_loss: 0.0834\n",
            "Epoch 37/100\n",
            "1875/1875 [==============================] - 39s 21ms/step - loss: 0.0811 - val_loss: 0.0832\n",
            "Epoch 38/100\n",
            "1875/1875 [==============================] - 38s 20ms/step - loss: 0.0809 - val_loss: 0.0834\n",
            "Epoch 39/100\n",
            "1875/1875 [==============================] - 39s 21ms/step - loss: 0.0807 - val_loss: 0.0829\n",
            "Epoch 40/100\n",
            "1875/1875 [==============================] - 39s 21ms/step - loss: 0.0805 - val_loss: 0.0831\n",
            "Epoch 41/100\n",
            "1875/1875 [==============================] - 38s 20ms/step - loss: 0.0804 - val_loss: 0.0823\n",
            "Epoch 42/100\n",
            "1875/1875 [==============================] - 39s 21ms/step - loss: 0.0802 - val_loss: 0.0827\n",
            "Epoch 43/100\n",
            "1875/1875 [==============================] - 39s 21ms/step - loss: 0.0801 - val_loss: 0.0826\n",
            "Epoch 44/100\n",
            "1875/1875 [==============================] - 37s 20ms/step - loss: 0.0799 - val_loss: 0.0822\n",
            "Epoch 45/100\n",
            "1875/1875 [==============================] - 40s 21ms/step - loss: 0.0798 - val_loss: 0.0828\n",
            "Epoch 46/100\n",
            "1875/1875 [==============================] - 39s 21ms/step - loss: 0.0797 - val_loss: 0.0822\n",
            "Epoch 47/100\n",
            "1875/1875 [==============================] - 38s 20ms/step - loss: 0.0796 - val_loss: 0.0820\n",
            "Epoch 48/100\n",
            "1875/1875 [==============================] - 40s 21ms/step - loss: 0.0794 - val_loss: 0.0819\n",
            "Epoch 49/100\n",
            "1875/1875 [==============================] - 39s 21ms/step - loss: 0.0793 - val_loss: 0.0819\n",
            "Epoch 50/100\n",
            "1875/1875 [==============================] - 38s 20ms/step - loss: 0.0792 - val_loss: 0.0818\n",
            "Epoch 51/100\n",
            "1875/1875 [==============================] - 39s 21ms/step - loss: 0.0791 - val_loss: 0.0820\n",
            "Epoch 52/100\n",
            "1875/1875 [==============================] - 39s 21ms/step - loss: 0.0790 - val_loss: 0.0818\n",
            "Epoch 53/100\n",
            "1875/1875 [==============================] - 38s 20ms/step - loss: 0.0789 - val_loss: 0.0814\n",
            "Epoch 54/100\n",
            "1875/1875 [==============================] - 38s 20ms/step - loss: 0.0788 - val_loss: 0.0816\n",
            "Epoch 55/100\n",
            "1875/1875 [==============================] - 38s 20ms/step - loss: 0.0787 - val_loss: 0.0815\n",
            "Epoch 56/100\n",
            "1875/1875 [==============================] - 39s 21ms/step - loss: 0.0786 - val_loss: 0.0813\n",
            "Epoch 57/100\n",
            "1875/1875 [==============================] - 38s 20ms/step - loss: 0.0785 - val_loss: 0.0818\n",
            "Epoch 58/100\n",
            "1875/1875 [==============================] - 39s 21ms/step - loss: 0.0785 - val_loss: 0.0813\n",
            "Epoch 59/100\n",
            "1875/1875 [==============================] - 38s 20ms/step - loss: 0.0784 - val_loss: 0.0813\n",
            "Epoch 60/100\n",
            "1875/1875 [==============================] - 39s 21ms/step - loss: 0.0783 - val_loss: 0.0811\n",
            "Epoch 61/100\n",
            "1875/1875 [==============================] - 40s 21ms/step - loss: 0.0782 - val_loss: 0.0815\n",
            "Epoch 62/100\n",
            "1875/1875 [==============================] - 38s 20ms/step - loss: 0.0782 - val_loss: 0.0815\n",
            "Epoch 63/100\n",
            "1875/1875 [==============================] - 39s 21ms/step - loss: 0.0781 - val_loss: 0.0812\n",
            "Epoch 64/100\n",
            "1875/1875 [==============================] - 39s 21ms/step - loss: 0.0780 - val_loss: 0.0815\n",
            "Epoch 65/100\n",
            "1875/1875 [==============================] - 38s 20ms/step - loss: 0.0780 - val_loss: 0.0815\n",
            "Epoch 66/100\n",
            "1875/1875 [==============================] - 39s 21ms/step - loss: 0.0779 - val_loss: 0.0819\n",
            "Epoch 67/100\n",
            "1875/1875 [==============================] - 39s 21ms/step - loss: 0.0778 - val_loss: 0.0813\n",
            "Epoch 68/100\n",
            "1875/1875 [==============================] - 37s 20ms/step - loss: 0.0778 - val_loss: 0.0811\n",
            "Epoch 69/100\n",
            "1875/1875 [==============================] - 40s 21ms/step - loss: 0.0777 - val_loss: 0.0813\n",
            "Epoch 70/100\n",
            "1875/1875 [==============================] - 40s 21ms/step - loss: 0.0777 - val_loss: 0.0811\n",
            "Epoch 71/100\n",
            "1875/1875 [==============================] - 38s 20ms/step - loss: 0.0776 - val_loss: 0.0810\n",
            "Epoch 72/100\n",
            "1875/1875 [==============================] - 40s 21ms/step - loss: 0.0776 - val_loss: 0.0814\n",
            "Epoch 73/100\n",
            "1875/1875 [==============================] - 42s 22ms/step - loss: 0.0775 - val_loss: 0.0811\n",
            "Epoch 74/100\n",
            "1875/1875 [==============================] - 40s 21ms/step - loss: 0.0774 - val_loss: 0.0809\n",
            "Epoch 75/100\n",
            "1875/1875 [==============================] - 40s 21ms/step - loss: 0.0774 - val_loss: 0.0810\n",
            "Epoch 76/100\n",
            "1875/1875 [==============================] - 40s 21ms/step - loss: 0.0773 - val_loss: 0.0811\n",
            "Epoch 77/100\n",
            "1875/1875 [==============================] - 39s 21ms/step - loss: 0.0773 - val_loss: 0.0813\n",
            "Epoch 78/100\n",
            "1875/1875 [==============================] - 41s 22ms/step - loss: 0.0772 - val_loss: 0.0814\n",
            "Epoch 79/100\n",
            "1875/1875 [==============================] - 40s 21ms/step - loss: 0.0772 - val_loss: 0.0809\n",
            "Epoch 80/100\n",
            "1875/1875 [==============================] - 40s 21ms/step - loss: 0.0771 - val_loss: 0.0812\n",
            "Epoch 81/100\n",
            "1875/1875 [==============================] - 41s 22ms/step - loss: 0.0772 - val_loss: 0.0805\n",
            "Epoch 82/100\n",
            "1875/1875 [==============================] - 40s 21ms/step - loss: 0.0771 - val_loss: 0.0811\n",
            "Epoch 83/100\n",
            "1875/1875 [==============================] - 39s 21ms/step - loss: 0.0770 - val_loss: 0.0812\n",
            "Epoch 84/100\n",
            "1875/1875 [==============================] - 41s 22ms/step - loss: 0.0770 - val_loss: 0.0812\n",
            "Epoch 85/100\n",
            "1875/1875 [==============================] - 40s 21ms/step - loss: 0.0770 - val_loss: 0.0807\n",
            "Epoch 86/100\n",
            "1875/1875 [==============================] - 39s 21ms/step - loss: 0.0769 - val_loss: 0.0808\n",
            "Epoch 87/100\n",
            "1875/1875 [==============================] - 41s 22ms/step - loss: 0.0769 - val_loss: 0.0806\n",
            "Epoch 88/100\n",
            "1875/1875 [==============================] - 38s 20ms/step - loss: 0.0768 - val_loss: 0.0808\n",
            "Epoch 89/100\n",
            "1875/1875 [==============================] - 41s 22ms/step - loss: 0.0768 - val_loss: 0.0806\n",
            "Epoch 90/100\n",
            "1875/1875 [==============================] - 39s 21ms/step - loss: 0.0767 - val_loss: 0.0808\n",
            "Epoch 91/100\n",
            "1875/1875 [==============================] - 40s 21ms/step - loss: 0.0767 - val_loss: 0.0807\n",
            "Epoch 92/100\n",
            "1875/1875 [==============================] - 40s 22ms/step - loss: 0.0767 - val_loss: 0.0807\n",
            "Epoch 93/100\n",
            "1875/1875 [==============================] - 40s 21ms/step - loss: 0.0767 - val_loss: 0.0807\n",
            "Epoch 94/100\n",
            "1875/1875 [==============================] - 38s 21ms/step - loss: 0.0766 - val_loss: 0.0810\n",
            "Epoch 95/100\n",
            "1875/1875 [==============================] - 39s 21ms/step - loss: 0.0766 - val_loss: 0.0814\n",
            "Epoch 96/100\n",
            "1875/1875 [==============================] - 40s 22ms/step - loss: 0.0766 - val_loss: 0.0811\n",
            "Epoch 97/100\n",
            "1875/1875 [==============================] - 39s 21ms/step - loss: 0.0765 - val_loss: 0.0805\n",
            "Epoch 98/100\n",
            "1875/1875 [==============================] - 40s 21ms/step - loss: 0.0765 - val_loss: 0.0807\n",
            "Epoch 99/100\n",
            "1875/1875 [==============================] - 39s 21ms/step - loss: 0.0765 - val_loss: 0.0807\n",
            "Epoch 100/100\n",
            "1875/1875 [==============================] - 39s 21ms/step - loss: 0.0764 - val_loss: 0.0807\n"
          ]
        }
      ],
      "source": [
        "autoencoder.compile(optimizer='adam', loss='binary_crossentropy')\n",
        "history = autoencoder.fit(train_images, train_images,\n",
        "                    epochs=100,\n",
        "                    shuffle=True,\n",
        "                    validation_data=(test_images, test_images))"
      ]
    },
    {
      "cell_type": "markdown",
      "source": [
        "# Evaluate the Auto-encoder"
      ],
      "metadata": {
        "id": "XRz4MGUUEBxk"
      }
    },
    {
      "cell_type": "code",
      "execution_count": 6,
      "metadata": {
        "colab": {
          "base_uri": "https://localhost:8080/"
        },
        "id": "0oTzg9qc6muS",
        "outputId": "f530d231-6576-4bf6-da80-9fbcb67e037a"
      },
      "outputs": [
        {
          "output_type": "stream",
          "name": "stdout",
          "text": [
            "313/313 [==============================] - 3s 8ms/step\n"
          ]
        }
      ],
      "source": [
        "encoded_imgs = autoencoder.predict(test_images)"
      ]
    },
    {
      "cell_type": "code",
      "source": [
        "n = 10 \n",
        "plt.figure(figsize=(20, 4))\n",
        "for i in range(n):\n",
        "    # Original data\n",
        "    ax = plt.subplot(2, n, i + 1)\n",
        "    plt.imshow(test_images[i].reshape(28, 28))\n",
        "    plt.gray()\n",
        "    ax.get_xaxis().set_visible(False)\n",
        "    ax.get_yaxis().set_visible(False)\n",
        "    # Display reconstruction\n",
        "    ax = plt.subplot(2, n, i + 1 + n)\n",
        "    plt.imshow(encoded_imgs[i].reshape(28, 28))\n",
        "    plt.gray()\n",
        "    ax.get_xaxis().set_visible(False)\n",
        "    ax.get_yaxis().set_visible(False)\n",
        "plt.show()"
      ],
      "metadata": {
        "colab": {
          "base_uri": "https://localhost:8080/",
          "height": 248
        },
        "id": "vVv7agm4qlsk",
        "outputId": "c98ff41e-0533-4385-ca72-57bd20217fa2"
      },
      "execution_count": 76,
      "outputs": [
        {
          "output_type": "display_data",
          "data": {
            "text/plain": [
              "<Figure size 1440x288 with 20 Axes>"
            ],
            "image/png": "[encoded data removed]"
          },
          "metadata": {
            "needs_background": "light"
          }
        }
      ]
    },
    {
      "cell_type": "markdown",
      "source": [
        "# Plot loss and val_loss"
      ],
      "metadata": {
        "id": "nUITgcSYEGzj"
      }
    },
    {
      "cell_type": "code",
      "execution_count": 77,
      "metadata": {
        "colab": {
          "base_uri": "https://localhost:8080/",
          "height": 295
        },
        "id": "819FqIEP8mLN",
        "outputId": "1646194f-1847-4486-ffc2-b32d30c46ba2"
      },
      "outputs": [
        {
          "output_type": "display_data",
          "data": {
            "text/plain": [
              "<Figure size 432x288 with 1 Axes>"
            ],
            "image/png": "[encoded data removed]"
          },
          "metadata": {
            "needs_background": "light"
          }
        }
      ],
      "source": [
        "plt.plot(history.history['loss'])\n",
        "plt.plot(history.history['val_loss'])\n",
        "plt.title('Model loss')\n",
        "plt.ylabel('Loss')\n",
        "plt.xlabel('Epoch')\n",
        "plt.legend(['Train', 'Validation'], loc='upper right')\n",
        "plt.show()"
      ]
    },
    {
      "cell_type": "markdown",
      "source": [
        "# Part 3.2\n",
        "\n",
        "# Classification\n",
        "\n",
        "output of the encoder as the input for the model"
      ],
      "metadata": {
        "id": "q42OiC1EEQEV"
      }
    },
    {
      "cell_type": "code",
      "source": [
        "input_size = 784\n",
        "hidden_size1 = 500\n",
        "hidden_size2=300\n",
        "hidden_size3=100\n",
        "latent_size = 30\n",
        "\n",
        "latent = Input(shape=(latent_size,))\n",
        "den = Dense(30, activation='sigmoid')(latent)\n",
        "den1 = Dense(30, activation='sigmoid')(den)\n",
        "out = Dense(10, activation='softmax')(den1)\n",
        "\n",
        "model = Model(latent, out)\n",
        "model.summary()"
      ],
      "metadata": {
        "colab": {
          "base_uri": "https://localhost:8080/"
        },
        "id": "1j5iEN21HT0K",
        "outputId": "cd367400-2ea3-4bf8-d184-ecfa45ad25eb"
      },
      "execution_count": 17,
      "outputs": [
        {
          "output_type": "stream",
          "name": "stdout",
          "text": [
            "Model: \"model_7\"\n",
            "_________________________________________________________________\n",
            " Layer (type)                Output Shape              Param #   \n",
            "=================================================================\n",
            " input_6 (InputLayer)        [(None, 30)]              0         \n",
            "                                                                 \n",
            " dense_29 (Dense)            (None, 30)                930       \n",
            "                                                                 \n",
            " dense_30 (Dense)            (None, 30)                930       \n",
            "                                                                 \n",
            " dense_31 (Dense)            (None, 10)                310       \n",
            "                                                                 \n",
            "=================================================================\n",
            "Total params: 2,170\n",
            "Trainable params: 2,170\n",
            "Non-trainable params: 0\n",
            "_________________________________________________________________\n"
          ]
        }
      ]
    },
    {
      "cell_type": "code",
      "execution_count": 18,
      "metadata": {
        "id": "JVHAriYtbnxf"
      },
      "outputs": [],
      "source": [
        "model.compile(optimizer='adam',loss='categorical_crossentropy', metrics=['accuracy'])"
      ]
    },
    {
      "cell_type": "markdown",
      "source": [
        "# Converting integer class labels into binary vectors using one-hot encoding"
      ],
      "metadata": {
        "id": "tYzGCo4KFXk3"
      }
    },
    {
      "cell_type": "code",
      "source": [
        "train_labels = keras.utils.to_categorical(train_labels, 10)\n",
        "test_labels = keras.utils.to_categorical(test_labels, 10)"
      ],
      "metadata": {
        "id": "QMMdG9qlFMHn"
      },
      "execution_count": null,
      "outputs": []
    },
    {
      "cell_type": "markdown",
      "source": [
        "# Extract features from encoder and use them as input for our model"
      ],
      "metadata": {
        "id": "ExQH96zMFQDw"
      }
    },
    {
      "cell_type": "code",
      "source": [
        "encoded_train = encoder.predict(train_images)\n",
        "encoded_test = encoder.predict(test_images)"
      ],
      "metadata": {
        "colab": {
          "base_uri": "https://localhost:8080/"
        },
        "id": "DKrGkqzHeHMU",
        "outputId": "01cf8cec-bf24-4bcc-c138-29622ecfea14"
      },
      "execution_count": 11,
      "outputs": [
        {
          "output_type": "stream",
          "name": "stdout",
          "text": [
            "1875/1875 [==============================] - 7s 4ms/step\n",
            "313/313 [==============================] - 1s 3ms/step\n"
          ]
        }
      ]
    },
    {
      "cell_type": "markdown",
      "source": [
        "# Train the model and updates the model's weights "
      ],
      "metadata": {
        "id": "i538N5HzFguY"
      }
    },
    {
      "cell_type": "code",
      "execution_count": 19,
      "metadata": {
        "colab": {
          "base_uri": "https://localhost:8080/"
        },
        "id": "7fj20FXnZ_i4",
        "outputId": "31304d0c-c300-4da5-c9c3-bed491db6c07"
      },
      "outputs": [
        {
          "output_type": "stream",
          "name": "stdout",
          "text": [
            "Epoch 1/100\n",
            "1875/1875 [==============================] - 6s 3ms/step - loss: 0.8265 - accuracy: 0.8265 - val_loss: 0.2834 - val_accuracy: 0.9334\n",
            "Epoch 2/100\n",
            "1875/1875 [==============================] - 4s 2ms/step - loss: 0.2312 - accuracy: 0.9387 - val_loss: 0.1973 - val_accuracy: 0.9451\n",
            "Epoch 3/100\n",
            "1875/1875 [==============================] - 5s 3ms/step - loss: 0.1799 - accuracy: 0.9483 - val_loss: 0.1680 - val_accuracy: 0.9523\n",
            "Epoch 4/100\n",
            "1875/1875 [==============================] - 4s 2ms/step - loss: 0.1564 - accuracy: 0.9541 - val_loss: 0.1535 - val_accuracy: 0.9563\n",
            "Epoch 5/100\n",
            "1875/1875 [==============================] - 4s 2ms/step - loss: 0.1430 - accuracy: 0.9573 - val_loss: 0.1413 - val_accuracy: 0.9594\n",
            "Epoch 6/100\n",
            "1875/1875 [==============================] - 5s 3ms/step - loss: 0.1315 - accuracy: 0.9608 - val_loss: 0.1326 - val_accuracy: 0.9624\n",
            "Epoch 7/100\n",
            "1875/1875 [==============================] - 4s 2ms/step - loss: 0.1247 - accuracy: 0.9627 - val_loss: 0.1233 - val_accuracy: 0.9638\n",
            "Epoch 8/100\n",
            "1875/1875 [==============================] - 4s 2ms/step - loss: 0.1186 - accuracy: 0.9649 - val_loss: 0.1191 - val_accuracy: 0.9662\n",
            "Epoch 9/100\n",
            "1875/1875 [==============================] - 5s 3ms/step - loss: 0.1141 - accuracy: 0.9654 - val_loss: 0.1229 - val_accuracy: 0.9639\n",
            "Epoch 10/100\n",
            "1875/1875 [==============================] - 4s 2ms/step - loss: 0.1107 - accuracy: 0.9672 - val_loss: 0.1200 - val_accuracy: 0.9633\n",
            "Epoch 11/100\n",
            "1875/1875 [==============================] - 5s 3ms/step - loss: 0.1068 - accuracy: 0.9681 - val_loss: 0.1159 - val_accuracy: 0.9659\n",
            "Epoch 12/100\n",
            "1875/1875 [==============================] - 5s 3ms/step - loss: 0.1032 - accuracy: 0.9689 - val_loss: 0.1074 - val_accuracy: 0.9678\n",
            "Epoch 13/100\n",
            "1875/1875 [==============================] - 4s 2ms/step - loss: 0.1015 - accuracy: 0.9692 - val_loss: 0.1100 - val_accuracy: 0.9672\n",
            "Epoch 14/100\n",
            "1875/1875 [==============================] - 4s 2ms/step - loss: 0.0993 - accuracy: 0.9700 - val_loss: 0.1053 - val_accuracy: 0.9698\n",
            "Epoch 15/100\n",
            "1875/1875 [==============================] - 5s 2ms/step - loss: 0.0968 - accuracy: 0.9704 - val_loss: 0.1069 - val_accuracy: 0.9683\n",
            "Epoch 16/100\n",
            "1875/1875 [==============================] - 4s 2ms/step - loss: 0.0946 - accuracy: 0.9711 - val_loss: 0.1020 - val_accuracy: 0.9690\n",
            "Epoch 17/100\n",
            "1875/1875 [==============================] - 5s 3ms/step - loss: 0.0931 - accuracy: 0.9719 - val_loss: 0.1015 - val_accuracy: 0.9680\n",
            "Epoch 18/100\n",
            "1875/1875 [==============================] - 4s 2ms/step - loss: 0.0914 - accuracy: 0.9717 - val_loss: 0.0997 - val_accuracy: 0.9700\n",
            "Epoch 19/100\n",
            "1875/1875 [==============================] - 4s 2ms/step - loss: 0.0896 - accuracy: 0.9731 - val_loss: 0.1000 - val_accuracy: 0.9706\n",
            "Epoch 20/100\n",
            "1875/1875 [==============================] - 5s 3ms/step - loss: 0.0882 - accuracy: 0.9730 - val_loss: 0.0971 - val_accuracy: 0.9710\n",
            "Epoch 21/100\n",
            "1875/1875 [==============================] - 5s 3ms/step - loss: 0.0860 - accuracy: 0.9744 - val_loss: 0.1044 - val_accuracy: 0.9678\n",
            "Epoch 22/100\n",
            "1875/1875 [==============================] - 11s 6ms/step - loss: 0.0849 - accuracy: 0.9745 - val_loss: 0.1063 - val_accuracy: 0.9703\n",
            "Epoch 23/100\n",
            "1875/1875 [==============================] - 4s 2ms/step - loss: 0.0843 - accuracy: 0.9744 - val_loss: 0.0997 - val_accuracy: 0.9684\n",
            "Epoch 24/100\n",
            "1875/1875 [==============================] - 5s 3ms/step - loss: 0.0818 - accuracy: 0.9745 - val_loss: 0.0982 - val_accuracy: 0.9712\n",
            "Epoch 25/100\n",
            "1875/1875 [==============================] - 5s 3ms/step - loss: 0.0817 - accuracy: 0.9749 - val_loss: 0.0988 - val_accuracy: 0.9707\n",
            "Epoch 26/100\n",
            "1875/1875 [==============================] - 5s 2ms/step - loss: 0.0806 - accuracy: 0.9755 - val_loss: 0.0998 - val_accuracy: 0.9700\n",
            "Epoch 27/100\n",
            "1875/1875 [==============================] - 5s 3ms/step - loss: 0.0797 - accuracy: 0.9764 - val_loss: 0.0961 - val_accuracy: 0.9714\n",
            "Epoch 28/100\n",
            "1875/1875 [==============================] - 4s 2ms/step - loss: 0.0791 - accuracy: 0.9757 - val_loss: 0.0978 - val_accuracy: 0.9712\n",
            "Epoch 29/100\n",
            "1875/1875 [==============================] - 4s 2ms/step - loss: 0.0769 - accuracy: 0.9764 - val_loss: 0.1006 - val_accuracy: 0.9709\n",
            "Epoch 30/100\n",
            "1875/1875 [==============================] - 5s 3ms/step - loss: 0.0771 - accuracy: 0.9763 - val_loss: 0.0933 - val_accuracy: 0.9731\n",
            "Epoch 31/100\n",
            "1875/1875 [==============================] - 4s 2ms/step - loss: 0.0765 - accuracy: 0.9769 - val_loss: 0.0957 - val_accuracy: 0.9714\n",
            "Epoch 32/100\n",
            "1875/1875 [==============================] - 5s 3ms/step - loss: 0.0753 - accuracy: 0.9770 - val_loss: 0.0920 - val_accuracy: 0.9726\n",
            "Epoch 33/100\n",
            "1875/1875 [==============================] - 5s 2ms/step - loss: 0.0744 - accuracy: 0.9770 - val_loss: 0.0936 - val_accuracy: 0.9707\n",
            "Epoch 34/100\n",
            "1875/1875 [==============================] - 5s 3ms/step - loss: 0.0737 - accuracy: 0.9780 - val_loss: 0.0926 - val_accuracy: 0.9724\n",
            "Epoch 35/100\n",
            "1875/1875 [==============================] - 5s 3ms/step - loss: 0.0728 - accuracy: 0.9776 - val_loss: 0.0956 - val_accuracy: 0.9733\n",
            "Epoch 36/100\n",
            "1875/1875 [==============================] - 4s 2ms/step - loss: 0.0723 - accuracy: 0.9782 - val_loss: 0.0937 - val_accuracy: 0.9725\n",
            "Epoch 37/100\n",
            "1875/1875 [==============================] - 5s 3ms/step - loss: 0.0713 - accuracy: 0.9788 - val_loss: 0.0929 - val_accuracy: 0.9735\n",
            "Epoch 38/100\n",
            "1875/1875 [==============================] - 5s 2ms/step - loss: 0.0709 - accuracy: 0.9787 - val_loss: 0.0939 - val_accuracy: 0.9728\n",
            "Epoch 39/100\n",
            "1875/1875 [==============================] - 4s 2ms/step - loss: 0.0708 - accuracy: 0.9786 - val_loss: 0.0916 - val_accuracy: 0.9737\n",
            "Epoch 40/100\n",
            "1875/1875 [==============================] - 5s 3ms/step - loss: 0.0701 - accuracy: 0.9789 - val_loss: 0.1037 - val_accuracy: 0.9698\n",
            "Epoch 41/100\n",
            "1875/1875 [==============================] - 4s 2ms/step - loss: 0.0694 - accuracy: 0.9786 - val_loss: 0.0904 - val_accuracy: 0.9735\n",
            "Epoch 42/100\n",
            "1875/1875 [==============================] - 4s 2ms/step - loss: 0.0687 - accuracy: 0.9791 - val_loss: 0.0925 - val_accuracy: 0.9742\n",
            "Epoch 43/100\n",
            "1875/1875 [==============================] - 5s 3ms/step - loss: 0.0690 - accuracy: 0.9788 - val_loss: 0.0883 - val_accuracy: 0.9749\n",
            "Epoch 44/100\n",
            "1875/1875 [==============================] - 4s 2ms/step - loss: 0.0680 - accuracy: 0.9786 - val_loss: 0.0958 - val_accuracy: 0.9715\n",
            "Epoch 45/100\n",
            "1875/1875 [==============================] - 4s 2ms/step - loss: 0.0673 - accuracy: 0.9794 - val_loss: 0.0913 - val_accuracy: 0.9726\n",
            "Epoch 46/100\n",
            "1875/1875 [==============================] - 6s 3ms/step - loss: 0.0670 - accuracy: 0.9792 - val_loss: 0.0908 - val_accuracy: 0.9736\n",
            "Epoch 47/100\n",
            "1875/1875 [==============================] - 5s 3ms/step - loss: 0.0671 - accuracy: 0.9796 - val_loss: 0.0939 - val_accuracy: 0.9714\n",
            "Epoch 48/100\n",
            "1875/1875 [==============================] - 6s 3ms/step - loss: 0.0662 - accuracy: 0.9794 - val_loss: 0.0875 - val_accuracy: 0.9734\n",
            "Epoch 49/100\n",
            "1875/1875 [==============================] - 4s 2ms/step - loss: 0.0659 - accuracy: 0.9797 - val_loss: 0.1000 - val_accuracy: 0.9691\n",
            "Epoch 50/100\n",
            "1875/1875 [==============================] - 4s 2ms/step - loss: 0.0663 - accuracy: 0.9794 - val_loss: 0.0876 - val_accuracy: 0.9730\n",
            "Epoch 51/100\n",
            "1875/1875 [==============================] - 5s 3ms/step - loss: 0.0654 - accuracy: 0.9800 - val_loss: 0.0903 - val_accuracy: 0.9742\n",
            "Epoch 52/100\n",
            "1875/1875 [==============================] - 4s 2ms/step - loss: 0.0648 - accuracy: 0.9802 - val_loss: 0.0901 - val_accuracy: 0.9743\n",
            "Epoch 53/100\n",
            "1875/1875 [==============================] - 4s 2ms/step - loss: 0.0639 - accuracy: 0.9804 - val_loss: 0.1008 - val_accuracy: 0.9699\n",
            "Epoch 54/100\n",
            "1875/1875 [==============================] - 5s 3ms/step - loss: 0.0643 - accuracy: 0.9803 - val_loss: 0.0919 - val_accuracy: 0.9727\n",
            "Epoch 55/100\n",
            "1875/1875 [==============================] - 4s 2ms/step - loss: 0.0639 - accuracy: 0.9803 - val_loss: 0.0961 - val_accuracy: 0.9718\n",
            "Epoch 56/100\n",
            "1875/1875 [==============================] - 5s 3ms/step - loss: 0.0640 - accuracy: 0.9802 - val_loss: 0.0996 - val_accuracy: 0.9711\n",
            "Epoch 57/100\n",
            "1875/1875 [==============================] - 4s 2ms/step - loss: 0.0630 - accuracy: 0.9812 - val_loss: 0.0868 - val_accuracy: 0.9746\n",
            "Epoch 58/100\n",
            "1875/1875 [==============================] - 4s 2ms/step - loss: 0.0627 - accuracy: 0.9807 - val_loss: 0.0882 - val_accuracy: 0.9756\n",
            "Epoch 59/100\n",
            "1875/1875 [==============================] - 7s 3ms/step - loss: 0.0625 - accuracy: 0.9808 - val_loss: 0.0889 - val_accuracy: 0.9742\n",
            "Epoch 60/100\n",
            "1875/1875 [==============================] - 4s 2ms/step - loss: 0.0631 - accuracy: 0.9806 - val_loss: 0.0920 - val_accuracy: 0.9730\n",
            "Epoch 61/100\n",
            "1875/1875 [==============================] - 5s 3ms/step - loss: 0.0622 - accuracy: 0.9806 - val_loss: 0.0884 - val_accuracy: 0.9739\n",
            "Epoch 62/100\n",
            "1875/1875 [==============================] - 5s 3ms/step - loss: 0.0609 - accuracy: 0.9811 - val_loss: 0.0899 - val_accuracy: 0.9737\n",
            "Epoch 63/100\n",
            "1875/1875 [==============================] - 4s 2ms/step - loss: 0.0616 - accuracy: 0.9807 - val_loss: 0.0882 - val_accuracy: 0.9739\n",
            "Epoch 64/100\n",
            "1875/1875 [==============================] - 6s 3ms/step - loss: 0.0610 - accuracy: 0.9811 - val_loss: 0.0871 - val_accuracy: 0.9738\n",
            "Epoch 65/100\n",
            "1875/1875 [==============================] - 5s 3ms/step - loss: 0.0610 - accuracy: 0.9809 - val_loss: 0.0890 - val_accuracy: 0.9736\n",
            "Epoch 66/100\n",
            "1875/1875 [==============================] - 6s 3ms/step - loss: 0.0603 - accuracy: 0.9812 - val_loss: 0.0964 - val_accuracy: 0.9708\n",
            "Epoch 67/100\n",
            "1875/1875 [==============================] - 4s 2ms/step - loss: 0.0612 - accuracy: 0.9811 - val_loss: 0.0913 - val_accuracy: 0.9735\n",
            "Epoch 68/100\n",
            "1875/1875 [==============================] - 4s 2ms/step - loss: 0.0599 - accuracy: 0.9814 - val_loss: 0.0879 - val_accuracy: 0.9743\n",
            "Epoch 69/100\n",
            "1875/1875 [==============================] - 6s 3ms/step - loss: 0.0590 - accuracy: 0.9812 - val_loss: 0.0904 - val_accuracy: 0.9737\n",
            "Epoch 70/100\n",
            "1875/1875 [==============================] - 4s 2ms/step - loss: 0.0595 - accuracy: 0.9818 - val_loss: 0.0888 - val_accuracy: 0.9731\n",
            "Epoch 71/100\n",
            "1875/1875 [==============================] - 6s 3ms/step - loss: 0.0592 - accuracy: 0.9812 - val_loss: 0.0833 - val_accuracy: 0.9756\n",
            "Epoch 72/100\n",
            "1875/1875 [==============================] - 5s 3ms/step - loss: 0.0590 - accuracy: 0.9815 - val_loss: 0.0882 - val_accuracy: 0.9731\n",
            "Epoch 73/100\n",
            "1875/1875 [==============================] - 4s 2ms/step - loss: 0.0589 - accuracy: 0.9817 - val_loss: 0.0926 - val_accuracy: 0.9732\n",
            "Epoch 74/100\n",
            "1875/1875 [==============================] - 6s 3ms/step - loss: 0.0582 - accuracy: 0.9821 - val_loss: 0.0849 - val_accuracy: 0.9745\n",
            "Epoch 75/100\n",
            "1875/1875 [==============================] - 4s 2ms/step - loss: 0.0581 - accuracy: 0.9815 - val_loss: 0.0902 - val_accuracy: 0.9734\n",
            "Epoch 76/100\n",
            "1875/1875 [==============================] - 5s 2ms/step - loss: 0.0577 - accuracy: 0.9813 - val_loss: 0.0893 - val_accuracy: 0.9727\n",
            "Epoch 77/100\n",
            "1875/1875 [==============================] - 6s 3ms/step - loss: 0.0577 - accuracy: 0.9824 - val_loss: 0.0935 - val_accuracy: 0.9721\n",
            "Epoch 78/100\n",
            "1875/1875 [==============================] - 5s 2ms/step - loss: 0.0568 - accuracy: 0.9817 - val_loss: 0.0899 - val_accuracy: 0.9728\n",
            "Epoch 79/100\n",
            "1875/1875 [==============================] - 5s 3ms/step - loss: 0.0576 - accuracy: 0.9816 - val_loss: 0.0848 - val_accuracy: 0.9754\n",
            "Epoch 80/100\n",
            "1875/1875 [==============================] - 5s 3ms/step - loss: 0.0569 - accuracy: 0.9821 - val_loss: 0.0872 - val_accuracy: 0.9747\n",
            "Epoch 81/100\n",
            "1875/1875 [==============================] - 4s 2ms/step - loss: 0.0574 - accuracy: 0.9818 - val_loss: 0.0883 - val_accuracy: 0.9740\n",
            "Epoch 82/100\n",
            "1875/1875 [==============================] - 5s 3ms/step - loss: 0.0565 - accuracy: 0.9822 - val_loss: 0.0878 - val_accuracy: 0.9743\n",
            "Epoch 83/100\n",
            "1875/1875 [==============================] - 5s 3ms/step - loss: 0.0569 - accuracy: 0.9826 - val_loss: 0.0879 - val_accuracy: 0.9739\n",
            "Epoch 84/100\n",
            "1875/1875 [==============================] - 4s 2ms/step - loss: 0.0559 - accuracy: 0.9826 - val_loss: 0.0863 - val_accuracy: 0.9745\n",
            "Epoch 85/100\n",
            "1875/1875 [==============================] - 5s 3ms/step - loss: 0.0566 - accuracy: 0.9819 - val_loss: 0.0922 - val_accuracy: 0.9732\n",
            "Epoch 86/100\n",
            "1875/1875 [==============================] - 4s 2ms/step - loss: 0.0568 - accuracy: 0.9819 - val_loss: 0.0877 - val_accuracy: 0.9742\n",
            "Epoch 87/100\n",
            "1875/1875 [==============================] - 5s 3ms/step - loss: 0.0563 - accuracy: 0.9821 - val_loss: 0.0847 - val_accuracy: 0.9744\n",
            "Epoch 88/100\n",
            "1875/1875 [==============================] - 4s 2ms/step - loss: 0.0558 - accuracy: 0.9822 - val_loss: 0.0848 - val_accuracy: 0.9746\n",
            "Epoch 89/100\n",
            "1875/1875 [==============================] - 9s 5ms/step - loss: 0.0553 - accuracy: 0.9825 - val_loss: 0.0953 - val_accuracy: 0.9724\n",
            "Epoch 90/100\n",
            "1875/1875 [==============================] - 9s 5ms/step - loss: 0.0552 - accuracy: 0.9826 - val_loss: 0.0857 - val_accuracy: 0.9748\n",
            "Epoch 91/100\n",
            "1875/1875 [==============================] - 9s 5ms/step - loss: 0.0553 - accuracy: 0.9826 - val_loss: 0.0871 - val_accuracy: 0.9746\n",
            "Epoch 92/100\n",
            "1875/1875 [==============================] - 4s 2ms/step - loss: 0.0543 - accuracy: 0.9828 - val_loss: 0.0887 - val_accuracy: 0.9734\n",
            "Epoch 93/100\n",
            "1875/1875 [==============================] - 7s 3ms/step - loss: 0.0547 - accuracy: 0.9828 - val_loss: 0.0903 - val_accuracy: 0.9741\n",
            "Epoch 94/100\n",
            "1875/1875 [==============================] - 4s 2ms/step - loss: 0.0542 - accuracy: 0.9828 - val_loss: 0.0881 - val_accuracy: 0.9745\n",
            "Epoch 95/100\n",
            "1875/1875 [==============================] - 4s 2ms/step - loss: 0.0545 - accuracy: 0.9826 - val_loss: 0.0891 - val_accuracy: 0.9749\n",
            "Epoch 96/100\n",
            "1875/1875 [==============================] - 5s 3ms/step - loss: 0.0543 - accuracy: 0.9830 - val_loss: 0.0872 - val_accuracy: 0.9748\n",
            "Epoch 97/100\n",
            "1875/1875 [==============================] - 4s 2ms/step - loss: 0.0537 - accuracy: 0.9831 - val_loss: 0.0913 - val_accuracy: 0.9752\n",
            "Epoch 98/100\n",
            "1875/1875 [==============================] - 4s 2ms/step - loss: 0.0544 - accuracy: 0.9829 - val_loss: 0.0874 - val_accuracy: 0.9745\n",
            "Epoch 99/100\n",
            "1875/1875 [==============================] - 5s 3ms/step - loss: 0.0531 - accuracy: 0.9834 - val_loss: 0.0862 - val_accuracy: 0.9758\n",
            "Epoch 100/100\n",
            "1875/1875 [==============================] - 4s 2ms/step - loss: 0.0536 - accuracy: 0.9829 - val_loss: 0.0882 - val_accuracy: 0.9742\n"
          ]
        }
      ],
      "source": [
        "history = model.fit(encoded_train, train_labels,\n",
        "                    epochs=100,\n",
        "                    validation_data=(encoded_test, test_labels))"
      ]
    },
    {
      "cell_type": "markdown",
      "source": [
        "# Test loss and Test accuracy"
      ],
      "metadata": {
        "id": "4VTfZiYfFnhb"
      }
    },
    {
      "cell_type": "code",
      "execution_count": 23,
      "metadata": {
        "colab": {
          "base_uri": "https://localhost:8080/"
        },
        "id": "dAyCzkkebkkE",
        "outputId": "cf032dc5-0548-4b76-d2bb-cf73ddd626d8"
      },
      "outputs": [
        {
          "output_type": "stream",
          "name": "stdout",
          "text": [
            "Test loss: 0.08821100741624832\n",
            "Test accuracy: 0.9742000102996826\n"
          ]
        }
      ],
      "source": [
        "score = model.evaluate(encoded_test, test_labels, verbose=0)\n",
        "print('Test loss:', score[0])\n",
        "print('Test accuracy:', score[1])"
      ]
    },
    {
      "cell_type": "markdown",
      "source": [
        "# Plot loss , val_loss , accuracy and val_accuracy"
      ],
      "metadata": {
        "id": "ni9J4_RiE5Wv"
      }
    },
    {
      "cell_type": "code",
      "source": [
        "plt.plot(history.history['loss'])\n",
        "plt.plot(history.history['val_loss'])\n",
        "plt.title('Model loss')\n",
        "plt.ylabel('Loss')\n",
        "plt.xlabel('Epoch')\n",
        "plt.legend(['Train', 'Validation'], loc='upper right')\n",
        "plt.show()"
      ],
      "metadata": {
        "colab": {
          "base_uri": "https://localhost:8080/",
          "height": 295
        },
        "id": "xdlQqTIIagq8",
        "outputId": "8e3fafa7-ea93-4396-84f4-e0a445b7104c"
      },
      "execution_count": 20,
      "outputs": [
        {
          "output_type": "display_data",
          "data": {
            "text/plain": [
              "<Figure size 432x288 with 1 Axes>"
            ],
            "image/png": "[encoded data removed]"
          },
          "metadata": {
            "needs_background": "light"
          }
        }
      ]
    },
    {
      "cell_type": "code",
      "execution_count": 42,
      "metadata": {
        "colab": {
          "base_uri": "https://localhost:8080/",
          "height": 302
        },
        "id": "i0tvC8n58BBg",
        "outputId": "8e77ce16-89e8-4c60-b544-cafabe9f4ca5"
      },
      "outputs": [
        {
          "output_type": "stream",
          "name": "stdout",
          "text": [
            "313/313 - 1s - loss: 0.0882 - accuracy: 0.9742 - 713ms/epoch - 2ms/step\n"
          ]
        },
        {
          "output_type": "display_data",
          "data": {
            "text/plain": [
              "<Figure size 432x288 with 1 Axes>"
            ],
            "image/png": "[encoded data removed]"
          },
          "metadata": {}
        }
      ],
      "source": [
        "plt.plot(history.history['accuracy'], label='accuracy')\n",
        "plt.plot(history.history['val_accuracy'], label = 'val_accuracy')\n",
        "plt.xlabel('Epoch')\n",
        "plt.ylabel('Accuracy')\n",
        "plt.legend(loc='lower right')\n",
        "\n",
        "test_loss, test_acc = model.evaluate(encoded_test,  test_labels, verbose=2)"
      ]
    },
    {
      "cell_type": "code",
      "source": [
        "pd.DataFrame(history.history).plot(figsize=(8, 5))\n",
        "plt.grid(True)\n",
        "plt.gca()\n",
        "plt.show()"
      ],
      "metadata": {
        "colab": {
          "base_uri": "https://localhost:8080/",
          "height": 320
        },
        "id": "E3JHq_DcMLnE",
        "outputId": "c630d8b0-c825-467f-d4ae-f6c3ba449319"
      },
      "execution_count": 25,
      "outputs": [
        {
          "output_type": "display_data",
          "data": {
            "text/plain": [
              "<Figure size 576x360 with 1 Axes>"
            ],
            "image/png": "[encoded data removed]"
          },
          "metadata": {
            "needs_background": "light"
          }
        }
      ]
    },
    {
      "cell_type": "markdown",
      "source": [
        "# Plot confusion matrix"
      ],
      "metadata": {
        "id": "zilTY5KxGU3f"
      }
    },
    {
      "cell_type": "code",
      "execution_count": 27,
      "metadata": {
        "colab": {
          "base_uri": "https://localhost:8080/"
        },
        "id": "WgNxjVH2LDXW",
        "outputId": "f12a0220-242a-4c7f-9f59-a352649cfa47"
      },
      "outputs": [
        {
          "output_type": "stream",
          "name": "stdout",
          "text": [
            "313/313 [==============================] - 1s 4ms/step\n"
          ]
        }
      ],
      "source": [
        "y_pred = model.predict(encoded_test)\n",
        "y_pred_classes = np.argmax(y_pred,axis = 1) "
      ]
    },
    {
      "cell_type": "code",
      "execution_count": 28,
      "metadata": {
        "colab": {
          "base_uri": "https://localhost:8080/"
        },
        "id": "aIaGs-nMRYpO",
        "outputId": "d4d74150-1b26-45dc-edf8-0159a1cbfc71"
      },
      "outputs": [
        {
          "output_type": "execute_result",
          "data": {
            "text/plain": [
              "array([7, 2, 1, ..., 4, 5, 6])"
            ]
          },
          "metadata": {},
          "execution_count": 28
        }
      ],
      "source": [
        "y_pred_classes1 = np.argmax(test_labels,axis = 1) \n",
        "y_pred_classes1"
      ]
    },
    {
      "cell_type": "code",
      "execution_count": 29,
      "metadata": {
        "id": "oit49ZbsRE3S"
      },
      "outputs": [],
      "source": [
        "confusion_mtx = tf.math.confusion_matrix(y_pred_classes1, y_pred_classes)"
      ]
    },
    {
      "cell_type": "code",
      "execution_count": 32,
      "metadata": {
        "colab": {
          "base_uri": "https://localhost:8080/",
          "height": 540
        },
        "id": "x0E0HWe0Rj2U",
        "outputId": "07e80ed5-ae13-4a62-f815-3e965aead165"
      },
      "outputs": [
        {
          "output_type": "display_data",
          "data": {
            "text/plain": [
              "<Figure size 864x648 with 2 Axes>"
            ],
            "image/png": "[encoded data removed]"
          },
          "metadata": {}
        }
      ],
      "source": [
        "plt.figure(figsize=(12, 9))\n",
        "c = sns.heatmap(confusion_mtx, annot=True, fmt='g')"
      ]
    },
    {
      "cell_type": "code",
      "execution_count": null,
      "metadata": {
        "id": "lsEY97wSRk4o"
      },
      "outputs": [],
      "source": []
    }
  ],
  "metadata": {
    "colab": {
      "provenance": []
    },
    "kernelspec": {
      "display_name": "Python 3",
      "name": "python3"
    },
    "language_info": {
      "name": "python"
    }
  },
  "nbformat": 4,
  "nbformat_minor": 0
}